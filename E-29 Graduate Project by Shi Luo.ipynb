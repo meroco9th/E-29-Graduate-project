{
 "cells": [
  {
   "cell_type": "markdown",
   "metadata": {},
   "source": [
    "# E-29 Graduate Project\n",
    "### By: Shi Luo"
   ]
  },
  {
   "attachments": {},
   "cell_type": "markdown",
   "metadata": {},
   "source": [
    "The data come from https://www.kaggle.com/aaron7sun/stocknews\n",
    "\n",
    "Two channels of data are provided in the dataset:\n",
    "1. News data: this dataset includes historical news headlines from Reddit WorldNews Channel. For each day there are top 25 headlines selected by reddit users' votes, and the range is from 2008-06-08 to 2016-07-01.\n",
    "2. Stock data: Dow Jones Industrial Average (DJIA) is used as the representitive of stock market and the range is from 2008-08-08 to 2016-07-01.\n",
    "\n",
    "In this project, the Top 25 daily news headlines are used to predict the Rate of Returns for Djia.\n",
    "The methods include GloVe embedding, Recurrent Neural Network based models and Convolutional Neural Network model."
   ]
  },
  {
   "cell_type": "markdown",
   "metadata": {},
   "source": [
    "## Import Libraries"
   ]
  },
  {
   "cell_type": "code",
   "execution_count": 715,
   "metadata": {
    "scrolled": true
   },
   "outputs": [],
   "source": [
    "#basic\n",
    "import pandas as pd\n",
    "import numpy as np\n",
    "import re\n",
    "import string\n",
    "from functools import reduce\n",
    "\n",
    "#nltk\n",
    "import nltk\n",
    "from nltk.corpus import stopwords\n",
    "from nltk.stem.wordnet import WordNetLemmatizer\n",
    "\n",
    "#scikit\n",
    "from sklearn.metrics import median_absolute_error\n",
    "\n",
    "#keras\n",
    "from keras.preprocessing.text import Tokenizer\n",
    "from keras.preprocessing.sequence import pad_sequences\n",
    "from keras.models import Sequential\n",
    "from keras.layers import Dense, Flatten, LSTM, Convolution1D, MaxPooling1D, Dropout, Activation, SimpleRNN\n",
    "from keras.layers.embeddings import Embedding\n",
    "from keras.optimizers import RMSprop\n",
    "\n",
    "#matplotlib\n",
    "import matplotlib.pyplot as plt\n"
   ]
  },
  {
   "cell_type": "markdown",
   "metadata": {},
   "source": [
    "## Import data"
   ]
  },
  {
   "cell_type": "markdown",
   "metadata": {},
   "source": [
    "Combined_News_DJIA.csv: The first column is \"Date\". There are 25 lines for each date and all news are ranked from top to bottom based on how hot they are."
   ]
  },
  {
   "cell_type": "code",
   "execution_count": 713,
   "metadata": {},
   "outputs": [
    {
     "name": "stdout",
     "output_type": "stream",
     "text": [
      "(1989, 27)\n",
      "[[ 'b\"Georgia \\'downs two Russian warplanes\\' as countries move to brink of war\"'\n",
      "  \"b'BREAKING: Musharraf to be impeached.'\"\n",
      "  \"b'Russia Today: Columns of troops roll into South Ossetia; footage from fighting (YouTube)'\"\n",
      "  \"b'Russian tanks are moving towards the capital of South Ossetia, which has reportedly been completely destroyed by Georgian artillery fire'\"]]\n"
     ]
    },
    {
     "data": {
      "text/html": [
       "<div>\n",
       "<style>\n",
       "    .dataframe thead tr:only-child th {\n",
       "        text-align: right;\n",
       "    }\n",
       "\n",
       "    .dataframe thead th {\n",
       "        text-align: left;\n",
       "    }\n",
       "\n",
       "    .dataframe tbody tr th {\n",
       "        vertical-align: top;\n",
       "    }\n",
       "</style>\n",
       "<table border=\"1\" class=\"dataframe\">\n",
       "  <thead>\n",
       "    <tr style=\"text-align: right;\">\n",
       "      <th></th>\n",
       "      <th>Date</th>\n",
       "      <th>Label</th>\n",
       "      <th>Top1</th>\n",
       "      <th>Top2</th>\n",
       "      <th>Top3</th>\n",
       "      <th>Top4</th>\n",
       "      <th>Top5</th>\n",
       "      <th>Top6</th>\n",
       "      <th>Top7</th>\n",
       "      <th>Top8</th>\n",
       "      <th>...</th>\n",
       "      <th>Top16</th>\n",
       "      <th>Top17</th>\n",
       "      <th>Top18</th>\n",
       "      <th>Top19</th>\n",
       "      <th>Top20</th>\n",
       "      <th>Top21</th>\n",
       "      <th>Top22</th>\n",
       "      <th>Top23</th>\n",
       "      <th>Top24</th>\n",
       "      <th>Top25</th>\n",
       "    </tr>\n",
       "  </thead>\n",
       "  <tbody>\n",
       "    <tr>\n",
       "      <th>0</th>\n",
       "      <td>2008-08-08</td>\n",
       "      <td>0</td>\n",
       "      <td>b\"Georgia 'downs two Russian warplanes' as cou...</td>\n",
       "      <td>b'BREAKING: Musharraf to be impeached.'</td>\n",
       "      <td>b'Russia Today: Columns of troops roll into So...</td>\n",
       "      <td>b'Russian tanks are moving towards the capital...</td>\n",
       "      <td>b\"Afghan children raped with 'impunity,' U.N. ...</td>\n",
       "      <td>b'150 Russian tanks have entered South Ossetia...</td>\n",
       "      <td>b\"Breaking: Georgia invades South Ossetia, Rus...</td>\n",
       "      <td>b\"The 'enemy combatent' trials are nothing but...</td>\n",
       "      <td>...</td>\n",
       "      <td>b'Georgia Invades South Ossetia - if Russia ge...</td>\n",
       "      <td>b'Al-Qaeda Faces Islamist Backlash'</td>\n",
       "      <td>b'Condoleezza Rice: \"The US would not act to p...</td>\n",
       "      <td>b'This is a busy day:  The European Union has ...</td>\n",
       "      <td>b\"Georgia will withdraw 1,000 soldiers from Ir...</td>\n",
       "      <td>b'Why the Pentagon Thinks Attacking Iran is a ...</td>\n",
       "      <td>b'Caucasus in crisis: Georgia invades South Os...</td>\n",
       "      <td>b'Indian shoe manufactory  - And again in a se...</td>\n",
       "      <td>b'Visitors Suffering from Mental Illnesses Ban...</td>\n",
       "      <td>b\"No Help for Mexico's Kidnapping Surge\"</td>\n",
       "    </tr>\n",
       "    <tr>\n",
       "      <th>1</th>\n",
       "      <td>2008-08-11</td>\n",
       "      <td>1</td>\n",
       "      <td>b'Why wont America and Nato help us? If they w...</td>\n",
       "      <td>b'Bush puts foot down on Georgian conflict'</td>\n",
       "      <td>b\"Jewish Georgian minister: Thanks to Israeli ...</td>\n",
       "      <td>b'Georgian army flees in disarray as Russians ...</td>\n",
       "      <td>b\"Olympic opening ceremony fireworks 'faked'\"</td>\n",
       "      <td>b'What were the Mossad with fraudulent New Zea...</td>\n",
       "      <td>b'Russia angered by Israeli military sale to G...</td>\n",
       "      <td>b'An American citizen living in S.Ossetia blam...</td>\n",
       "      <td>...</td>\n",
       "      <td>b'Israel and the US behind the Georgian aggres...</td>\n",
       "      <td>b'\"Do not believe TV, neither Russian nor Geor...</td>\n",
       "      <td>b'Riots are still going on in Montreal (Canada...</td>\n",
       "      <td>b'China to overtake US as largest manufacturer'</td>\n",
       "      <td>b'War in South Ossetia [PICS]'</td>\n",
       "      <td>b'Israeli Physicians Group Condemns State Tort...</td>\n",
       "      <td>b' Russia has just beaten the United States ov...</td>\n",
       "      <td>b'Perhaps *the* question about the Georgia - R...</td>\n",
       "      <td>b'Russia is so much better at war'</td>\n",
       "      <td>b\"So this is what it's come to: trading sex fo...</td>\n",
       "    </tr>\n",
       "  </tbody>\n",
       "</table>\n",
       "<p>2 rows × 27 columns</p>\n",
       "</div>"
      ],
      "text/plain": [
       "         Date  Label                                               Top1  \\\n",
       "0  2008-08-08      0  b\"Georgia 'downs two Russian warplanes' as cou...   \n",
       "1  2008-08-11      1  b'Why wont America and Nato help us? If they w...   \n",
       "\n",
       "                                          Top2  \\\n",
       "0      b'BREAKING: Musharraf to be impeached.'   \n",
       "1  b'Bush puts foot down on Georgian conflict'   \n",
       "\n",
       "                                                Top3  \\\n",
       "0  b'Russia Today: Columns of troops roll into So...   \n",
       "1  b\"Jewish Georgian minister: Thanks to Israeli ...   \n",
       "\n",
       "                                                Top4  \\\n",
       "0  b'Russian tanks are moving towards the capital...   \n",
       "1  b'Georgian army flees in disarray as Russians ...   \n",
       "\n",
       "                                                Top5  \\\n",
       "0  b\"Afghan children raped with 'impunity,' U.N. ...   \n",
       "1      b\"Olympic opening ceremony fireworks 'faked'\"   \n",
       "\n",
       "                                                Top6  \\\n",
       "0  b'150 Russian tanks have entered South Ossetia...   \n",
       "1  b'What were the Mossad with fraudulent New Zea...   \n",
       "\n",
       "                                                Top7  \\\n",
       "0  b\"Breaking: Georgia invades South Ossetia, Rus...   \n",
       "1  b'Russia angered by Israeli military sale to G...   \n",
       "\n",
       "                                                Top8  \\\n",
       "0  b\"The 'enemy combatent' trials are nothing but...   \n",
       "1  b'An American citizen living in S.Ossetia blam...   \n",
       "\n",
       "                         ...                          \\\n",
       "0                        ...                           \n",
       "1                        ...                           \n",
       "\n",
       "                                               Top16  \\\n",
       "0  b'Georgia Invades South Ossetia - if Russia ge...   \n",
       "1  b'Israel and the US behind the Georgian aggres...   \n",
       "\n",
       "                                               Top17  \\\n",
       "0                b'Al-Qaeda Faces Islamist Backlash'   \n",
       "1  b'\"Do not believe TV, neither Russian nor Geor...   \n",
       "\n",
       "                                               Top18  \\\n",
       "0  b'Condoleezza Rice: \"The US would not act to p...   \n",
       "1  b'Riots are still going on in Montreal (Canada...   \n",
       "\n",
       "                                               Top19  \\\n",
       "0  b'This is a busy day:  The European Union has ...   \n",
       "1    b'China to overtake US as largest manufacturer'   \n",
       "\n",
       "                                               Top20  \\\n",
       "0  b\"Georgia will withdraw 1,000 soldiers from Ir...   \n",
       "1                     b'War in South Ossetia [PICS]'   \n",
       "\n",
       "                                               Top21  \\\n",
       "0  b'Why the Pentagon Thinks Attacking Iran is a ...   \n",
       "1  b'Israeli Physicians Group Condemns State Tort...   \n",
       "\n",
       "                                               Top22  \\\n",
       "0  b'Caucasus in crisis: Georgia invades South Os...   \n",
       "1  b' Russia has just beaten the United States ov...   \n",
       "\n",
       "                                               Top23  \\\n",
       "0  b'Indian shoe manufactory  - And again in a se...   \n",
       "1  b'Perhaps *the* question about the Georgia - R...   \n",
       "\n",
       "                                               Top24  \\\n",
       "0  b'Visitors Suffering from Mental Illnesses Ban...   \n",
       "1                 b'Russia is so much better at war'   \n",
       "\n",
       "                                               Top25  \n",
       "0           b\"No Help for Mexico's Kidnapping Surge\"  \n",
       "1  b\"So this is what it's come to: trading sex fo...  \n",
       "\n",
       "[2 rows x 27 columns]"
      ]
     },
     "execution_count": 713,
     "metadata": {},
     "output_type": "execute_result"
    }
   ],
   "source": [
    "News=pd.read_csv(\"Combined_News_DJIA.csv\")\n",
    "print(News.shape)\n",
    "print(News.iloc[0:1,2:6].values)\n",
    "News.head(2)\n"
   ]
  },
  {
   "cell_type": "code",
   "execution_count": 716,
   "metadata": {},
   "outputs": [
    {
     "name": "stdout",
     "output_type": "stream",
     "text": [
      "(1989, 7)\n"
     ]
    },
    {
     "data": {
      "text/html": [
       "<div>\n",
       "<style>\n",
       "    .dataframe thead tr:only-child th {\n",
       "        text-align: right;\n",
       "    }\n",
       "\n",
       "    .dataframe thead th {\n",
       "        text-align: left;\n",
       "    }\n",
       "\n",
       "    .dataframe tbody tr th {\n",
       "        vertical-align: top;\n",
       "    }\n",
       "</style>\n",
       "<table border=\"1\" class=\"dataframe\">\n",
       "  <thead>\n",
       "    <tr style=\"text-align: right;\">\n",
       "      <th></th>\n",
       "      <th>Date</th>\n",
       "      <th>Open</th>\n",
       "      <th>High</th>\n",
       "      <th>Low</th>\n",
       "      <th>Close</th>\n",
       "      <th>Volume</th>\n",
       "      <th>Adj Close</th>\n",
       "    </tr>\n",
       "  </thead>\n",
       "  <tbody>\n",
       "    <tr>\n",
       "      <th>0</th>\n",
       "      <td>2016-07-01</td>\n",
       "      <td>17924.240234</td>\n",
       "      <td>18002.380859</td>\n",
       "      <td>17916.910156</td>\n",
       "      <td>17949.369141</td>\n",
       "      <td>82160000</td>\n",
       "      <td>17949.369141</td>\n",
       "    </tr>\n",
       "    <tr>\n",
       "      <th>1</th>\n",
       "      <td>2016-06-30</td>\n",
       "      <td>17712.759766</td>\n",
       "      <td>17930.609375</td>\n",
       "      <td>17711.800781</td>\n",
       "      <td>17929.990234</td>\n",
       "      <td>133030000</td>\n",
       "      <td>17929.990234</td>\n",
       "    </tr>\n",
       "    <tr>\n",
       "      <th>2</th>\n",
       "      <td>2016-06-29</td>\n",
       "      <td>17456.019531</td>\n",
       "      <td>17704.509766</td>\n",
       "      <td>17456.019531</td>\n",
       "      <td>17694.679688</td>\n",
       "      <td>106380000</td>\n",
       "      <td>17694.679688</td>\n",
       "    </tr>\n",
       "    <tr>\n",
       "      <th>3</th>\n",
       "      <td>2016-06-28</td>\n",
       "      <td>17190.509766</td>\n",
       "      <td>17409.720703</td>\n",
       "      <td>17190.509766</td>\n",
       "      <td>17409.720703</td>\n",
       "      <td>112190000</td>\n",
       "      <td>17409.720703</td>\n",
       "    </tr>\n",
       "    <tr>\n",
       "      <th>4</th>\n",
       "      <td>2016-06-27</td>\n",
       "      <td>17355.210938</td>\n",
       "      <td>17355.210938</td>\n",
       "      <td>17063.080078</td>\n",
       "      <td>17140.240234</td>\n",
       "      <td>138740000</td>\n",
       "      <td>17140.240234</td>\n",
       "    </tr>\n",
       "  </tbody>\n",
       "</table>\n",
       "</div>"
      ],
      "text/plain": [
       "         Date          Open          High           Low         Close  \\\n",
       "0  2016-07-01  17924.240234  18002.380859  17916.910156  17949.369141   \n",
       "1  2016-06-30  17712.759766  17930.609375  17711.800781  17929.990234   \n",
       "2  2016-06-29  17456.019531  17704.509766  17456.019531  17694.679688   \n",
       "3  2016-06-28  17190.509766  17409.720703  17190.509766  17409.720703   \n",
       "4  2016-06-27  17355.210938  17355.210938  17063.080078  17140.240234   \n",
       "\n",
       "      Volume     Adj Close  \n",
       "0   82160000  17949.369141  \n",
       "1  133030000  17929.990234  \n",
       "2  106380000  17694.679688  \n",
       "3  112190000  17409.720703  \n",
       "4  138740000  17140.240234  "
      ]
     },
     "execution_count": 716,
     "metadata": {},
     "output_type": "execute_result"
    }
   ],
   "source": [
    "Djia=pd.read_csv(\"DJIA_table.csv\")\n",
    "print(Djia.shape)\n",
    "Djia.head()"
   ]
  },
  {
   "cell_type": "code",
   "execution_count": 717,
   "metadata": {
    "collapsed": true
   },
   "outputs": [],
   "source": [
    "#drop rows with empty and Nan values\n",
    "News.replace('', np.nan, inplace=True)\n",
    "News= News.dropna(how='any')"
   ]
  },
  {
   "cell_type": "code",
   "execution_count": 718,
   "metadata": {
    "collapsed": true
   },
   "outputs": [],
   "source": [
    "#drop rows with empty and Nan values\n",
    "Djia.replace('', np.nan, inplace=True)\n",
    "Djia= Djia.dropna(how='any')"
   ]
  },
  {
   "cell_type": "code",
   "execution_count": 719,
   "metadata": {},
   "outputs": [
    {
     "name": "stdout",
     "output_type": "stream",
     "text": [
      "(1986, 27)\n",
      "(1989, 7)\n"
     ]
    }
   ],
   "source": [
    "print(News.shape)\n",
    "print(Djia.shape)"
   ]
  },
  {
   "cell_type": "markdown",
   "metadata": {},
   "source": [
    "## Data Processing"
   ]
  },
  {
   "cell_type": "markdown",
   "metadata": {},
   "source": [
    "### Calculate the Rate of Return based on Close Prices"
   ]
  },
  {
   "cell_type": "markdown",
   "metadata": {},
   "source": [
    "To measure the movement of the Djia prices, I calculated the Rate Of Return by using the following formulation:\n",
    "\n",
    "$Rate  Of  Return=( Close_t/Close_{t-1} – 1)*100$"
   ]
  },
  {
   "cell_type": "code",
   "execution_count": 720,
   "metadata": {},
   "outputs": [
    {
     "name": "stdout",
     "output_type": "stream",
     "text": [
      "(1988, 2)\n"
     ]
    },
    {
     "data": {
      "text/html": [
       "<div>\n",
       "<style>\n",
       "    .dataframe thead tr:only-child th {\n",
       "        text-align: right;\n",
       "    }\n",
       "\n",
       "    .dataframe thead th {\n",
       "        text-align: left;\n",
       "    }\n",
       "\n",
       "    .dataframe tbody tr th {\n",
       "        vertical-align: top;\n",
       "    }\n",
       "</style>\n",
       "<table border=\"1\" class=\"dataframe\">\n",
       "  <thead>\n",
       "    <tr style=\"text-align: right;\">\n",
       "      <th></th>\n",
       "      <th>Date</th>\n",
       "      <th>Rate of Return</th>\n",
       "    </tr>\n",
       "  </thead>\n",
       "  <tbody>\n",
       "    <tr>\n",
       "      <th>0</th>\n",
       "      <td>2008-08-11</td>\n",
       "      <td>0.409306</td>\n",
       "    </tr>\n",
       "    <tr>\n",
       "      <th>1</th>\n",
       "      <td>2008-08-12</td>\n",
       "      <td>-1.187199</td>\n",
       "    </tr>\n",
       "    <tr>\n",
       "      <th>2</th>\n",
       "      <td>2008-08-13</td>\n",
       "      <td>-0.940606</td>\n",
       "    </tr>\n",
       "  </tbody>\n",
       "</table>\n",
       "</div>"
      ],
      "text/plain": [
       "         Date  Rate of Return\n",
       "0  2008-08-11        0.409306\n",
       "1  2008-08-12       -1.187199\n",
       "2  2008-08-13       -0.940606"
      ]
     },
     "execution_count": 720,
     "metadata": {},
     "output_type": "execute_result"
    }
   ],
   "source": [
    "#reverse the Date\n",
    "Djia=Djia[::-1]\n",
    "\n",
    "#reset index\n",
    "Djia.reset_index(drop=True,inplace=True)\n",
    "\n",
    "#calculate Rate of Return\n",
    "Djia['Rate of Return']=(Djia['Close'].pct_change())*100\n",
    "\n",
    "#drop all other columns\n",
    "Djia = Djia.drop(['Open','High','Low','Close','Volume','Adj Close'], 1)\n",
    "\n",
    "#drop row0\n",
    "Djia=Djia.drop(0,axis=0)\n",
    "\n",
    "#reset index\n",
    "Djia.reset_index(drop=True,inplace=True)\n",
    "\n",
    "print(Djia.shape)\n",
    "Djia.head(3)"
   ]
  },
  {
   "cell_type": "code",
   "execution_count": 721,
   "metadata": {},
   "outputs": [
    {
     "name": "stdout",
     "output_type": "stream",
     "text": [
      "(1985, 28)\n"
     ]
    },
    {
     "data": {
      "text/html": [
       "<div>\n",
       "<style>\n",
       "    .dataframe thead tr:only-child th {\n",
       "        text-align: right;\n",
       "    }\n",
       "\n",
       "    .dataframe thead th {\n",
       "        text-align: left;\n",
       "    }\n",
       "\n",
       "    .dataframe tbody tr th {\n",
       "        vertical-align: top;\n",
       "    }\n",
       "</style>\n",
       "<table border=\"1\" class=\"dataframe\">\n",
       "  <thead>\n",
       "    <tr style=\"text-align: right;\">\n",
       "      <th></th>\n",
       "      <th>Date</th>\n",
       "      <th>Rate of Return</th>\n",
       "      <th>Label</th>\n",
       "      <th>Top1</th>\n",
       "      <th>Top2</th>\n",
       "      <th>Top3</th>\n",
       "      <th>Top4</th>\n",
       "      <th>Top5</th>\n",
       "      <th>Top6</th>\n",
       "      <th>Top7</th>\n",
       "      <th>...</th>\n",
       "      <th>Top16</th>\n",
       "      <th>Top17</th>\n",
       "      <th>Top18</th>\n",
       "      <th>Top19</th>\n",
       "      <th>Top20</th>\n",
       "      <th>Top21</th>\n",
       "      <th>Top22</th>\n",
       "      <th>Top23</th>\n",
       "      <th>Top24</th>\n",
       "      <th>Top25</th>\n",
       "    </tr>\n",
       "  </thead>\n",
       "  <tbody>\n",
       "    <tr>\n",
       "      <th>0</th>\n",
       "      <td>2008-08-11</td>\n",
       "      <td>0.409306</td>\n",
       "      <td>1</td>\n",
       "      <td>b'Why wont America and Nato help us? If they w...</td>\n",
       "      <td>b'Bush puts foot down on Georgian conflict'</td>\n",
       "      <td>b\"Jewish Georgian minister: Thanks to Israeli ...</td>\n",
       "      <td>b'Georgian army flees in disarray as Russians ...</td>\n",
       "      <td>b\"Olympic opening ceremony fireworks 'faked'\"</td>\n",
       "      <td>b'What were the Mossad with fraudulent New Zea...</td>\n",
       "      <td>b'Russia angered by Israeli military sale to G...</td>\n",
       "      <td>...</td>\n",
       "      <td>b'Israel and the US behind the Georgian aggres...</td>\n",
       "      <td>b'\"Do not believe TV, neither Russian nor Geor...</td>\n",
       "      <td>b'Riots are still going on in Montreal (Canada...</td>\n",
       "      <td>b'China to overtake US as largest manufacturer'</td>\n",
       "      <td>b'War in South Ossetia [PICS]'</td>\n",
       "      <td>b'Israeli Physicians Group Condemns State Tort...</td>\n",
       "      <td>b' Russia has just beaten the United States ov...</td>\n",
       "      <td>b'Perhaps *the* question about the Georgia - R...</td>\n",
       "      <td>b'Russia is so much better at war'</td>\n",
       "      <td>b\"So this is what it's come to: trading sex fo...</td>\n",
       "    </tr>\n",
       "    <tr>\n",
       "      <th>1</th>\n",
       "      <td>2008-08-12</td>\n",
       "      <td>-1.187199</td>\n",
       "      <td>0</td>\n",
       "      <td>b'Remember that adorable 9-year-old who sang a...</td>\n",
       "      <td>b\"Russia 'ends Georgia operation'\"</td>\n",
       "      <td>b'\"If we had no sexual harassment we would hav...</td>\n",
       "      <td>b\"Al-Qa'eda is losing support in Iraq because ...</td>\n",
       "      <td>b'Ceasefire in Georgia: Putin Outmaneuvers the...</td>\n",
       "      <td>b'Why Microsoft and Intel tried to kill the XO...</td>\n",
       "      <td>b'Stratfor: The Russo-Georgian War and the Bal...</td>\n",
       "      <td>...</td>\n",
       "      <td>b'U.S. troops still in Georgia (did you know t...</td>\n",
       "      <td>b'Why Russias response to Georgia was right'</td>\n",
       "      <td>b'Gorbachev accuses U.S. of making a \"serious ...</td>\n",
       "      <td>b'Russia, Georgia, and NATO: Cold War Two'</td>\n",
       "      <td>b'Remember that adorable 62-year-old who led y...</td>\n",
       "      <td>b'War in Georgia: The Israeli connection'</td>\n",
       "      <td>b'All signs point to the US encouraging Georgi...</td>\n",
       "      <td>b'Christopher King argues that the US and NATO...</td>\n",
       "      <td>b'America: The New Mexico?'</td>\n",
       "      <td>b\"BBC NEWS | Asia-Pacific | Extinction 'by man...</td>\n",
       "    </tr>\n",
       "    <tr>\n",
       "      <th>2</th>\n",
       "      <td>2008-08-13</td>\n",
       "      <td>-0.940606</td>\n",
       "      <td>0</td>\n",
       "      <td>b' U.S. refuses Israel weapons to attack Iran:...</td>\n",
       "      <td>b\"When the president ordered to attack Tskhinv...</td>\n",
       "      <td>b' Israel clears troops who killed Reuters cam...</td>\n",
       "      <td>b'Britain\\'s policy of being tough on drugs is...</td>\n",
       "      <td>b'Body of 14 year old found in trunk; Latest (...</td>\n",
       "      <td>b'China has moved 10 *million* quake survivors...</td>\n",
       "      <td>b\"Bush announces Operation Get All Up In Russi...</td>\n",
       "      <td>...</td>\n",
       "      <td>b'Elephants extinct by 2020?'</td>\n",
       "      <td>b'US humanitarian missions soon in Georgia - i...</td>\n",
       "      <td>b\"Georgia's DDOS came from US sources\"</td>\n",
       "      <td>b'Russian convoy heads into Georgia, violating...</td>\n",
       "      <td>b'Israeli defence minister: US against strike ...</td>\n",
       "      <td>b'Gorbachev: We Had No Choice'</td>\n",
       "      <td>b'Witness: Russian forces head towards Tbilisi...</td>\n",
       "      <td>b' Quarter of Russians blame U.S. for conflict...</td>\n",
       "      <td>b'Georgian president  says US military will ta...</td>\n",
       "      <td>b'2006: Nobel laureate Aleksander Solzhenitsyn...</td>\n",
       "    </tr>\n",
       "  </tbody>\n",
       "</table>\n",
       "<p>3 rows × 28 columns</p>\n",
       "</div>"
      ],
      "text/plain": [
       "         Date  Rate of Return  Label  \\\n",
       "0  2008-08-11        0.409306      1   \n",
       "1  2008-08-12       -1.187199      0   \n",
       "2  2008-08-13       -0.940606      0   \n",
       "\n",
       "                                                Top1  \\\n",
       "0  b'Why wont America and Nato help us? If they w...   \n",
       "1  b'Remember that adorable 9-year-old who sang a...   \n",
       "2  b' U.S. refuses Israel weapons to attack Iran:...   \n",
       "\n",
       "                                                Top2  \\\n",
       "0        b'Bush puts foot down on Georgian conflict'   \n",
       "1                 b\"Russia 'ends Georgia operation'\"   \n",
       "2  b\"When the president ordered to attack Tskhinv...   \n",
       "\n",
       "                                                Top3  \\\n",
       "0  b\"Jewish Georgian minister: Thanks to Israeli ...   \n",
       "1  b'\"If we had no sexual harassment we would hav...   \n",
       "2  b' Israel clears troops who killed Reuters cam...   \n",
       "\n",
       "                                                Top4  \\\n",
       "0  b'Georgian army flees in disarray as Russians ...   \n",
       "1  b\"Al-Qa'eda is losing support in Iraq because ...   \n",
       "2  b'Britain\\'s policy of being tough on drugs is...   \n",
       "\n",
       "                                                Top5  \\\n",
       "0      b\"Olympic opening ceremony fireworks 'faked'\"   \n",
       "1  b'Ceasefire in Georgia: Putin Outmaneuvers the...   \n",
       "2  b'Body of 14 year old found in trunk; Latest (...   \n",
       "\n",
       "                                                Top6  \\\n",
       "0  b'What were the Mossad with fraudulent New Zea...   \n",
       "1  b'Why Microsoft and Intel tried to kill the XO...   \n",
       "2  b'China has moved 10 *million* quake survivors...   \n",
       "\n",
       "                                                Top7  \\\n",
       "0  b'Russia angered by Israeli military sale to G...   \n",
       "1  b'Stratfor: The Russo-Georgian War and the Bal...   \n",
       "2  b\"Bush announces Operation Get All Up In Russi...   \n",
       "\n",
       "                         ...                          \\\n",
       "0                        ...                           \n",
       "1                        ...                           \n",
       "2                        ...                           \n",
       "\n",
       "                                               Top16  \\\n",
       "0  b'Israel and the US behind the Georgian aggres...   \n",
       "1  b'U.S. troops still in Georgia (did you know t...   \n",
       "2                      b'Elephants extinct by 2020?'   \n",
       "\n",
       "                                               Top17  \\\n",
       "0  b'\"Do not believe TV, neither Russian nor Geor...   \n",
       "1       b'Why Russias response to Georgia was right'   \n",
       "2  b'US humanitarian missions soon in Georgia - i...   \n",
       "\n",
       "                                               Top18  \\\n",
       "0  b'Riots are still going on in Montreal (Canada...   \n",
       "1  b'Gorbachev accuses U.S. of making a \"serious ...   \n",
       "2             b\"Georgia's DDOS came from US sources\"   \n",
       "\n",
       "                                               Top19  \\\n",
       "0    b'China to overtake US as largest manufacturer'   \n",
       "1         b'Russia, Georgia, and NATO: Cold War Two'   \n",
       "2  b'Russian convoy heads into Georgia, violating...   \n",
       "\n",
       "                                               Top20  \\\n",
       "0                     b'War in South Ossetia [PICS]'   \n",
       "1  b'Remember that adorable 62-year-old who led y...   \n",
       "2  b'Israeli defence minister: US against strike ...   \n",
       "\n",
       "                                               Top21  \\\n",
       "0  b'Israeli Physicians Group Condemns State Tort...   \n",
       "1          b'War in Georgia: The Israeli connection'   \n",
       "2                     b'Gorbachev: We Had No Choice'   \n",
       "\n",
       "                                               Top22  \\\n",
       "0  b' Russia has just beaten the United States ov...   \n",
       "1  b'All signs point to the US encouraging Georgi...   \n",
       "2  b'Witness: Russian forces head towards Tbilisi...   \n",
       "\n",
       "                                               Top23  \\\n",
       "0  b'Perhaps *the* question about the Georgia - R...   \n",
       "1  b'Christopher King argues that the US and NATO...   \n",
       "2  b' Quarter of Russians blame U.S. for conflict...   \n",
       "\n",
       "                                               Top24  \\\n",
       "0                 b'Russia is so much better at war'   \n",
       "1                        b'America: The New Mexico?'   \n",
       "2  b'Georgian president  says US military will ta...   \n",
       "\n",
       "                                               Top25  \n",
       "0  b\"So this is what it's come to: trading sex fo...  \n",
       "1  b\"BBC NEWS | Asia-Pacific | Extinction 'by man...  \n",
       "2  b'2006: Nobel laureate Aleksander Solzhenitsyn...  \n",
       "\n",
       "[3 rows x 28 columns]"
      ]
     },
     "execution_count": 721,
     "metadata": {},
     "output_type": "execute_result"
    }
   ],
   "source": [
    "#merge News and Djia\n",
    "data1=Djia.merge(News,on=[\"Date\"],how=\"inner\")\n",
    "print(data1.shape)\n",
    "data1.head(3)"
   ]
  },
  {
   "cell_type": "markdown",
   "metadata": {},
   "source": [
    "### Create input and output datasets"
   ]
  },
  {
   "cell_type": "code",
   "execution_count": 722,
   "metadata": {},
   "outputs": [
    {
     "data": {
      "text/plain": [
       "'b\\'Why wont America and Nato help us? If they wont help us now, why did we help them in Iraq?\\' b\\'Bush puts foot down on Georgian conflict\\' b\"Jewish Georgian minister: Thanks to Israeli training, we\\'re fending off Russia \" b\\'Georgian army flees in disarray as Russians advance - Gori abandoned to Russia without a shot fired\\' b\"Olympic opening ceremony fireworks \\'faked\\'\" b\\'What were the Mossad with fraudulent New Zealand Passports doing in Iraq?\\' b\\'Russia angered by Israeli military sale to Georgia\\' b\\'An American citizen living in S.Ossetia blames U.S. and Georgian leaders for the genocide of innocent people\\' b\\'Welcome To World War IV! Now In High Definition!\\' b\"Georgia\\'s move, a mistake of monumental proportions \" b\\'Russia presses deeper into Georgia; U.S. says regime change is goal\\' b\\'Abhinav Bindra wins first ever Individual Olympic Gold Medal for India\\' b\\' U.S. ship heads for Arctic to define territory\\' b\\'Drivers in a Jerusalem taxi station threaten to quit rather than work for their new boss - an Arab\\' b\\'The French Team is Stunned by Phelps and the 4x100m Relay Team\\' b\\'Israel and the US behind the Georgian aggression?\\' b\\'\"Do not believe TV, neither Russian nor Georgian. There are much more victims\"\\' b\\'Riots are still going on in Montreal (Canada) because police murdered a boy on Saturday.\\' b\\'China to overtake US as largest manufacturer\\' b\\'War in South Ossetia [PICS]\\' b\\'Israeli Physicians Group Condemns State Torture\\' b\\' Russia has just beaten the United States over the head with Peak Oil\\' b\\'Perhaps *the* question about the Georgia - Russia conflict \\' b\\'Russia is so much better at war\\' b\"So this is what it\\'s come to: trading sex for food.\"'"
      ]
     },
     "execution_count": 722,
     "metadata": {},
     "output_type": "execute_result"
    }
   ],
   "source": [
    "#combine 25 news into 1\n",
    "cols=data1.columns[3:28]\n",
    "data1['combined']=reduce(lambda x, y: x.astype(str).str.cat(y.astype(str), sep=' '), \n",
    "                 [data1[i] for i in cols])\n",
    "data1['combined'][0]"
   ]
  },
  {
   "cell_type": "code",
   "execution_count": 723,
   "metadata": {},
   "outputs": [
    {
     "name": "stdout",
     "output_type": "stream",
     "text": [
      "1985\n"
     ]
    }
   ],
   "source": [
    "#create a list of headlines which will be convered into our input dataset\n",
    "Headlines=list(data1['combined'].copy())\n",
    "\n",
    "print(len(Headlines))"
   ]
  },
  {
   "cell_type": "code",
   "execution_count": 724,
   "metadata": {},
   "outputs": [
    {
     "name": "stdout",
     "output_type": "stream",
     "text": [
      "1985\n"
     ]
    }
   ],
   "source": [
    "#create a list of corresponding Rate_of_Returns as our output dataset\n",
    "Rate_of_Return=list(data1['Rate of Return'].copy())\n",
    "print(len(Rate_of_Return))\n"
   ]
  },
  {
   "cell_type": "markdown",
   "metadata": {},
   "source": [
    "### Clean data"
   ]
  },
  {
   "cell_type": "markdown",
   "metadata": {
    "collapsed": true
   },
   "source": [
    "This fuction includes removing punctuations, onverting words to lower case, remove stop words, replacing certain expressions and emmatising words to their original forms.\n",
    "    "
   ]
  },
  {
   "cell_type": "code",
   "execution_count": 725,
   "metadata": {
    "collapsed": true
   },
   "outputs": [],
   "source": [
    "#define a function to clean data\n",
    "def clean(news):\n",
    "    \n",
    "    #Remove punctuations\n",
    "    news = news.translate(string.punctuation)\n",
    "    \n",
    "    #Convert words to lower case and split them\n",
    "    news = news.lower().split()   \n",
    "    \n",
    "    #Remove stop words\n",
    "    sp=set(stopwords.words(\"english\"))\n",
    "    news = [i for i in news if not i in sp and len(i) >= 3]   \n",
    "    \n",
    "    news = \" \".join(news)\n",
    "\n",
    "    # replace certain expressions\n",
    "    news= re.sub(r\"wont\", \"will not\",news)\n",
    "    news= re.sub(r\"i'm\", \"i am \",news)\n",
    "    news= re.sub(r\"\\'re\", \" are \",news)\n",
    "    news= re.sub(r\"\\'d\", \" would \",news)\n",
    "    news= re.sub(r\"\\'ll\", \" will \",news)\n",
    "    news= re.sub(r\"\\'ve\", \" have \",news)\n",
    "    news= re.sub(r\"n't\", \" not \",news)\n",
    "    news= re.sub(r\"what's\", \"what is \",news)\n",
    "    news= re.sub(r\"\\'s\", \" \",news)\n",
    "    news = re.sub(r' s ', ' ', news)\n",
    "    \n",
    "    news= re.sub(r\"b\", \" \",news)    \n",
    "    news= re.sub(r\",\", \" \",news)\n",
    "    news= re.sub(r\"\\.\", \" \",news)\n",
    "    news= re.sub(r\"!\", \" ! \",news)\n",
    "    news= re.sub(r\"\\/\", \" \",news)\n",
    "    news= re.sub(r\"\\^\", \" ^ \",news)\n",
    "    news= re.sub(r\"\\+\", \" + \",news)\n",
    "    news= re.sub(r\"\\-\", \" - \",news)\n",
    "    news= re.sub(r\"\\=\", \" = \",news)\n",
    "    news= re.sub(r\"'\", \" \",news)\n",
    "    news = re.sub(r'\\'', ' ', news)\n",
    "    news = re.sub(r'\\$', ' $ ', news)\n",
    "    news= re.sub(r\":\", \" : \",news)\n",
    "\n",
    "    news= re.sub(r\"\\0s\", \"0\",news)\n",
    "    news= re.sub(r\"e - mail\", \"email\",news)\n",
    "    news = re.sub(r' yr ', ' year ', news)\n",
    "    news= re.sub(r\"\\s{2,}\", \" \",news)\n",
    "    news= re.sub(r\" e g \", \" eg \",news)    \n",
    "    news = re.sub(r'&amp;', '', news) \n",
    "    news = re.sub(r'0,0', '00', news) \n",
    "    news = re.sub(r\"[^A-Za-z0-9^,!.\\/'+-=]\", \" \", news)\n",
    "    news= re.sub(r\"(\\d+)(k)\", r\"\\g<1>000\",news)\n",
    "    news = re.sub(r'u s ', ' united states ', news)\n",
    "    news = re.sub(r'u n ', ' united nations ', news)\n",
    "    news = re.sub(r'u k ', ' united kingdom ', news)\n",
    "\n",
    "    \n",
    "    news=news.split()\n",
    "    \n",
    "    #Lemmatisation\n",
    "    lem = WordNetLemmatizer()\n",
    "    lem_word = [lem.lemmatize(word, \"v\") for word in news]\n",
    "\n",
    "    news = \" \".join(lem_word)\n",
    "\n",
    "    return news"
   ]
  },
  {
   "cell_type": "code",
   "execution_count": 726,
   "metadata": {
    "collapsed": true
   },
   "outputs": [],
   "source": [
    "Headlines_Clean=[]\n",
    "\n",
    "for i in range(len(Headlines)):\n",
    "    Headlines_Clean.append(clean(Headlines[i]))\n"
   ]
  },
  {
   "cell_type": "code",
   "execution_count": 727,
   "metadata": {},
   "outputs": [
    {
     "data": {
      "text/plain": [
       "'kim jong - un order nuclear weapons make ready use mexican officials pass proposal an donald trump country tens thousands nigerian fishermen farmers give green light sue energy giant shell ritish court wednesday series destructive oil spill niger delta past decade chief receive 20 pay package hike despite record loss 7 000 ax jo s time crisis oil company o dudley earn 14m last year amount high pay centre descri es contact reality uk face ook force pay millions tax widespread controversy pay 4 327 tax last year refugee crisis put truckers live risk say road transport lo y world food price fall 14 5 even canadian food price clim usiness monsanto threaten pull india government impose ig cut royalties local firm pay genetically modify cotton seed average temperatures across northern hemisphere reach degrees celsius normal mark first time record history scientists find cancer achilles heel pakistani police rescue nine - year - old girl marry 14 - year - old oy settle family dispute friday arrest four village elders order compensation wed french ill carry 5 - year jail sentence company refusals decrypt data police unite state send carrier strike group confront china spain seize 20 000 isis military uniform russia military intelligence chief kill secret operation le anon japanese women exploit a use japan multi - illion dollar pornographic film industry right advocate say thursday call authorities strengthen laws protect razil petro ras scandal : police raid former president lula home nasa scott kelly grow inch space la our leader jeremy cor yn favour decriminalise sex industry honduran indian leader erta caceres 2015 goldman environmental prize role fight dam project murder thursday caceres lenca indian activist previously complain receive death threats police soldier local landowners work spain seize 20 000 military uniform ound isis gulf nations declare hez ollah terrorist group huge drop civilian deaths syria truce : monitor kremlin : russia concern north korea readiness use nuclear arm singapore owner recount singapore classify tesla gas - guzzler equivalent tax accordingly'"
      ]
     },
     "execution_count": 727,
     "metadata": {},
     "output_type": "execute_result"
    }
   ],
   "source": [
    "Headlines_Clean[1900]"
   ]
  },
  {
   "cell_type": "markdown",
   "metadata": {},
   "source": [
    "### Tokenization"
   ]
  },
  {
   "cell_type": "code",
   "execution_count": 673,
   "metadata": {},
   "outputs": [],
   "source": [
    "# create the tokenizer\n",
    "vsize=20000\n",
    "maxlen=300\n",
    "t = Tokenizer(num_words= vsize)\n",
    "\n",
    "# fit the tokenizer on the text\n",
    "t.fit_on_texts(Headlines_Clean)\n",
    "#print(t.word_counts)\n",
    "#print(t.document_count)\n",
    "#print(t.word_index)\n",
    "#print(t.word_docs)\n",
    "\n",
    "#Converts the text to a sequence of words or tokens.\n",
    "s = t.texts_to_sequences(Headlines_Clean)\n",
    "\n",
    "#Pads sequences to the same length\n",
    "Headlines_Pad = pad_sequences(s, maxlen=maxlen)"
   ]
  },
  {
   "cell_type": "code",
   "execution_count": 703,
   "metadata": {},
   "outputs": [
    {
     "name": "stdout",
     "output_type": "stream",
     "text": [
      "(1985, 300)\n"
     ]
    },
    {
     "data": {
      "text/plain": [
       "array([  171,  1359,  2475,   974,    86,   899,   896,   617,   327,\n",
       "         797,   726,    78,    49,   623,  1505,  6239,    71,   844,\n",
       "        3912,  3805,   531,  1201,   268,   586,   790,   106,  2183,\n",
       "        3043,   406,   202,  1627,   495,    19,  5042,   485,   161,\n",
       "          43,   201,    71,   140,    50, 14935,  1894, 10571,    70,\n",
       "          17,  1269,   220,   106,  1121,   943,  1066,  1911,  2298,\n",
       "         259,    48,   322,    28,   106,   552,   204,  2124,  2594,\n",
       "         106,   534, 16110,   204,    70,    17,  1226,   201,   329,\n",
       "         101,   540,     1,   721,  2212,  1301,   441,     7,   247,\n",
       "         364,   473,  1465,   351,   227,   210,   247,   364,  2810,\n",
       "         756,  1870,   181,  1117,    65,    10,  1028,   467,   209,\n",
       "        7183,   624,   496,   106,  2933,  2850,  5268,  2416,  1825,\n",
       "        2847,   348,   512,  6965,   338,  3782,  6082,  3309,  1116,\n",
       "          30,    43,   202,   465,   278,    20,   752, 15299,  9373,\n",
       "         544,    12,   875,  1151,    17,    64,   315,  1131,  1465,\n",
       "          17,    64,   708,  2676,   321,   928,   831,    56,   290,\n",
       "         819,  6415,    41,  1890,  1971,   125,   225,   411,   351,\n",
       "          17,   136,   222,   140,  7451,   293,    12,     5,     2,\n",
       "         185,  2984,    93,    84,  2577,     9,   477,   424,   790,\n",
       "          19,   109,    47,  3103,    15,    47,   355,   268,     4,\n",
       "         253,   860,    11,  1093,   378,    77,  2368,     3,    13,\n",
       "          85,  2752,   146,  1215,  6803,   547,   712,    26,  2492,\n",
       "           1,   569,    24,   397,  3502,   402,   383,   324,  5750,\n",
       "        5224,   579,    12,   421,   134,    25,  4603,   138,   994,\n",
       "        5220,  4789,   284,  4054,   598,   400,  1022,   147,  4000,\n",
       "        4960,  4961,  2354,  3669,   179,   712,  2812,   282,   147,\n",
       "        2281, 16167,  1229,  2202,   987,   800,   818,   129,  1982,\n",
       "         826,   213,   569, 16167,   282,   723,  1344,  2185,   586,\n",
       "          62,  1110,    12,   156,   624,  9131,   132,   477,   424,\n",
       "         790,    19,    47,  3103,  1761,   109,  1138,   170,   323,\n",
       "        1896,  1783,   501,    84,   622,   462,  1276,   643,    63,\n",
       "        2664,  1001,  2018,    15,   738,    34,    39,  6679,    13,\n",
       "          57,   216,  2280,  1722,  6471,  2280,  2256,  4435,   320,\n",
       "        3180,   204, 14301], dtype=int32)"
      ]
     },
     "execution_count": 703,
     "metadata": {},
     "output_type": "execute_result"
    }
   ],
   "source": [
    "print(Headlines_Pad.shape)\n",
    "Headlines_Pad[1900]"
   ]
  },
  {
   "cell_type": "markdown",
   "metadata": {},
   "source": [
    "### Apply GloVe's embeddings"
   ]
  },
  {
   "cell_type": "markdown",
   "metadata": {},
   "source": [
    "GloVe (Global Vectors for Word Representation), released by Stanford NLP Group researchers, is for learning continuous-space vector representations of words. This tool is suggested to be competitive with Google’s word2vec package.\n",
    "\n",
    "I chose 'glove.840B.300d.txt' as embeddings. Before training the model, I need to construct a co-occurrence matrix \"embedding_matrix\", in which each cell represents how often the word i appears in the context of the word j. I applied the values of this matrix to the models.\n"
   ]
  },
  {
   "cell_type": "code",
   "execution_count": 729,
   "metadata": {},
   "outputs": [
    {
     "name": "stdout",
     "output_type": "stream",
     "text": [
      "Loaded 2196017 word vectors.\n"
     ]
    }
   ],
   "source": [
    "# Load GloVe's embeddings\n",
    "embeddings_index = {}\n",
    "g = open('/Users/meroco/Document/Harvard/Python/GloVe/glove.840B.300d.txt',encoding='utf-8')\n",
    "\n",
    "for line in g:\n",
    "    values = line.split(' ')\n",
    "    word = values[0]\n",
    "    embedding = np.asarray(values[1:], dtype='float32')\n",
    "    embeddings_index[word] = embedding\n",
    "g.close()\n",
    "\n",
    "print('Loaded %s word vectors.' % len(embeddings_index))"
   ]
  },
  {
   "cell_type": "code",
   "execution_count": 772,
   "metadata": {},
   "outputs": [
    {
     "name": "stdout",
     "output_type": "stream",
     "text": [
      "(20000, 300)\n"
     ]
    }
   ],
   "source": [
    "# create a weight matrix for words in training docs\n",
    "embedding_matrix = np.zeros((vsize, 300))\n",
    "for word, index in t.word_index.items():\n",
    "    if index > vsize - 1:\n",
    "        break\n",
    "    else:\n",
    "        embedding_vector = embeddings_index.get(word)\n",
    "        if embedding_vector is not None:\n",
    "            embedding_matrix[index] = embedding_vector\n",
    "            \n",
    "print(embedding_matrix.shape)"
   ]
  },
  {
   "cell_type": "code",
   "execution_count": 771,
   "metadata": {},
   "outputs": [
    {
     "data": {
      "text/plain": [
       "array([[  0.00000000e+00,   0.00000000e+00,   0.00000000e+00, ...,\n",
       "          0.00000000e+00,   0.00000000e+00,   0.00000000e+00],\n",
       "       [ -3.20769995e-01,   5.16240001e-01,  -3.52789998e-01, ...,\n",
       "          1.84019998e-01,   4.51810002e-01,   5.26209995e-02],\n",
       "       [  1.79250002e-01,   1.33430004e-01,   5.03489971e-01, ...,\n",
       "         -5.65450013e-01,   9.51320007e-02,   6.42319992e-02],\n",
       "       ..., \n",
       "       [  0.00000000e+00,   0.00000000e+00,   0.00000000e+00, ...,\n",
       "          0.00000000e+00,   0.00000000e+00,   0.00000000e+00],\n",
       "       [ -1.09270001e-02,  -9.14940014e-02,   8.05949986e-01, ...,\n",
       "          4.34789985e-01,  -5.45450021e-04,  -7.27600008e-02],\n",
       "       [  2.48669997e-01,   8.32810029e-02,   2.78600007e-02, ...,\n",
       "         -4.36210006e-01,   8.27880025e-01,   5.72790027e-01]])"
      ]
     },
     "execution_count": 771,
     "metadata": {},
     "output_type": "execute_result"
    }
   ],
   "source": [
    "embedding_matrix"
   ]
  },
  {
   "cell_type": "markdown",
   "metadata": {},
   "source": [
    "## Build model"
   ]
  },
  {
   "cell_type": "markdown",
   "metadata": {},
   "source": [
    "### Set parameters"
   ]
  },
  {
   "cell_type": "code",
   "execution_count": 731,
   "metadata": {
    "collapsed": true
   },
   "outputs": [],
   "source": [
    "#set parameters\n",
    "training_samples = 1600 \n",
    "validation_samples = len(Rate_of_Return)-training_samples\n",
    "max_words = 20000 \n",
    "embedding_dim = 300 \n",
    "dropout=0.2\n",
    "filter_num=16\n",
    "filter_len=3"
   ]
  },
  {
   "cell_type": "markdown",
   "metadata": {},
   "source": [
    "### Model1"
   ]
  },
  {
   "cell_type": "markdown",
   "metadata": {},
   "source": [
    "In model1, I applied GloVe embedding and SimpleRNN as layers.\n",
    "\n",
    "Word embedding is the way how we represent words to input them to a neural network."
   ]
  },
  {
   "cell_type": "code",
   "execution_count": 732,
   "metadata": {},
   "outputs": [
    {
     "name": "stdout",
     "output_type": "stream",
     "text": [
      "_________________________________________________________________\n",
      "Layer (type)                 Output Shape              Param #   \n",
      "=================================================================\n",
      "embedding_38 (Embedding)     (None, 300, 300)          6000000   \n",
      "_________________________________________________________________\n",
      "simple_rnn_43 (SimpleRNN)    (None, 300, 32)           10656     \n",
      "_________________________________________________________________\n",
      "simple_rnn_44 (SimpleRNN)    (None, 300, 32)           2080      \n",
      "_________________________________________________________________\n",
      "simple_rnn_45 (SimpleRNN)    (None, 32)                2080      \n",
      "_________________________________________________________________\n",
      "dropout_39 (Dropout)         (None, 32)                0         \n",
      "_________________________________________________________________\n",
      "dense_20 (Dense)             (None, 1)                 33        \n",
      "=================================================================\n",
      "Total params: 6,014,849\n",
      "Trainable params: 14,849\n",
      "Non-trainable params: 6,000,000\n",
      "_________________________________________________________________\n"
     ]
    }
   ],
   "source": [
    "#model with GloVe and SimpleRNN\n",
    "model1 = Sequential() \n",
    "model1.add(Embedding(vsize, embedding_dim, input_length=maxlen, weights=[embedding_matrix], trainable=False)) \n",
    "model1.add(SimpleRNN(32, return_sequences=True))\n",
    "model1.add(SimpleRNN(32, return_sequences=True))\n",
    "model1.add(SimpleRNN(32))\n",
    "model1.add(Dropout(dropout))\n",
    "model1.add(Dense(1, activation='sigmoid')) \n",
    "model1.compile(optimizer=RMSprop(), loss='mae') \n",
    "model1.summary()"
   ]
  },
  {
   "cell_type": "markdown",
   "metadata": {},
   "source": [
    "### Model2"
   ]
  },
  {
   "cell_type": "markdown",
   "metadata": {},
   "source": [
    "I implemented GloVe embedding, Convolution1D and long short term memory (LSTM) networks layers in model2.\n",
    "\n",
    "The Convolution1D layer creates a convolution kernel that is convolved with the layer input over a single spatial dimension to produce a tensor of outputs.\n",
    "\n",
    "A LSTM network is also a kind of recurrent neural network, which attempts to model time or sequence dependent behaviour – such as language, stock prices. \n"
   ]
  },
  {
   "cell_type": "code",
   "execution_count": 745,
   "metadata": {},
   "outputs": [
    {
     "name": "stdout",
     "output_type": "stream",
     "text": [
      "_________________________________________________________________\n",
      "Layer (type)                 Output Shape              Param #   \n",
      "=================================================================\n",
      "embedding_40 (Embedding)     (None, 300, 300)          6000000   \n",
      "_________________________________________________________________\n",
      "conv1d_27 (Conv1D)           (None, 300, 16)           14416     \n",
      "_________________________________________________________________\n",
      "dropout_42 (Dropout)         (None, 300, 16)           0         \n",
      "_________________________________________________________________\n",
      "conv1d_28 (Conv1D)           (None, 300, 16)           784       \n",
      "_________________________________________________________________\n",
      "dropout_43 (Dropout)         (None, 300, 16)           0         \n",
      "_________________________________________________________________\n",
      "lstm_12 (LSTM)               (None, 100)               46800     \n",
      "_________________________________________________________________\n",
      "output (Dense)               (None, 1)                 101       \n",
      "=================================================================\n",
      "Total params: 6,062,101\n",
      "Trainable params: 62,101\n",
      "Non-trainable params: 6,000,000\n",
      "_________________________________________________________________\n"
     ]
    }
   ],
   "source": [
    "#model with GloVe, Convolution1D and LSTM\n",
    "model2 = Sequential()    \n",
    "model2.add(Embedding(vsize, embedding_dim, input_length=maxlen, weights=[embedding_matrix], trainable=False))\n",
    "model2.add(Convolution1D(filters = filter_num, kernel_size = filter_len, padding = 'same',activation = 'relu'))\n",
    "model2.add(Dropout(dropout))\n",
    "model2.add(Convolution1D(filters = filter_num, kernel_size = filter_len, padding = 'same',activation = 'relu'))\n",
    "model2.add(Dropout(dropout))\n",
    "model2.add(LSTM(100))\n",
    "model2.add(Dense(1, name='output'))\n",
    "model2.compile(optimizer='adam',loss='mean_squared_error')\n",
    "model2.summary()"
   ]
  },
  {
   "cell_type": "markdown",
   "metadata": {},
   "source": [
    "## Split data"
   ]
  },
  {
   "cell_type": "code",
   "execution_count": 746,
   "metadata": {},
   "outputs": [
    {
     "name": "stdout",
     "output_type": "stream",
     "text": [
      "1600\n",
      "385\n"
     ]
    }
   ],
   "source": [
    "# Split data into training and testing sets.\n",
    "x_train = Headlines_Pad[:training_samples] \n",
    "y_train = Rate_of_Return[:training_samples] \n",
    "x_val = Headlines_Pad[training_samples: training_samples + validation_samples] \n",
    "y_val = Rate_of_Return[training_samples: training_samples + validation_samples]\n",
    "\n",
    "# Check the lengths\n",
    "print(len(x_train))\n",
    "print(len(x_val))"
   ]
  },
  {
   "cell_type": "markdown",
   "metadata": {},
   "source": [
    "## Fit model"
   ]
  },
  {
   "cell_type": "code",
   "execution_count": 757,
   "metadata": {},
   "outputs": [
    {
     "name": "stdout",
     "output_type": "stream",
     "text": [
      "Train on 1600 samples, validate on 385 samples\n",
      "Epoch 1/30\n",
      "1600/1600 [==============================] - 11s 7ms/step - loss: 0.6071 - val_loss: 0.8112\n",
      "Epoch 2/30\n",
      "1600/1600 [==============================] - 11s 7ms/step - loss: 0.6059 - val_loss: 0.8108\n",
      "Epoch 3/30\n",
      "1600/1600 [==============================] - 11s 7ms/step - loss: 0.6062 - val_loss: 0.8105\n",
      "Epoch 4/30\n",
      "1600/1600 [==============================] - 10s 6ms/step - loss: 0.6090 - val_loss: 0.8032\n",
      "Epoch 5/30\n",
      "1600/1600 [==============================] - 10s 6ms/step - loss: 0.6036 - val_loss: 0.7845\n",
      "Epoch 6/30\n",
      "1600/1600 [==============================] - 10s 6ms/step - loss: 0.6055 - val_loss: 0.8101\n",
      "Epoch 7/30\n",
      "1600/1600 [==============================] - 11s 7ms/step - loss: 0.6033 - val_loss: 0.8063\n",
      "Epoch 8/30\n",
      "1600/1600 [==============================] - 11s 7ms/step - loss: 0.6029 - val_loss: 0.7903\n",
      "Epoch 9/30\n",
      "1600/1600 [==============================] - 11s 7ms/step - loss: 0.6006 - val_loss: 0.7967\n",
      "Epoch 10/30\n",
      "1600/1600 [==============================] - 12s 7ms/step - loss: 0.6014 - val_loss: 0.7994\n",
      "Epoch 11/30\n",
      "1600/1600 [==============================] - 11s 7ms/step - loss: 0.6010 - val_loss: 0.7924\n",
      "Epoch 12/30\n",
      "1600/1600 [==============================] - 11s 7ms/step - loss: 0.5995 - val_loss: 0.8118\n",
      "Epoch 13/30\n",
      "1600/1600 [==============================] - 11s 7ms/step - loss: 0.6008 - val_loss: 0.8002\n",
      "Epoch 14/30\n",
      "1600/1600 [==============================] - 11s 7ms/step - loss: 0.6020 - val_loss: 0.7953\n",
      "Epoch 15/30\n",
      "1600/1600 [==============================] - 12s 7ms/step - loss: 0.5996 - val_loss: 0.8153\n",
      "Epoch 16/30\n",
      "1600/1600 [==============================] - 11s 7ms/step - loss: 0.5992 - val_loss: 0.7968\n",
      "Epoch 17/30\n",
      "1600/1600 [==============================] - 11s 7ms/step - loss: 0.5992 - val_loss: 0.8146\n",
      "Epoch 18/30\n",
      "1600/1600 [==============================] - 11s 7ms/step - loss: 0.5984 - val_loss: 0.8059\n",
      "Epoch 19/30\n",
      "1600/1600 [==============================] - 11s 7ms/step - loss: 0.5958 - val_loss: 0.7981\n",
      "Epoch 20/30\n",
      "1600/1600 [==============================] - 10s 6ms/step - loss: 0.5976 - val_loss: 0.8025\n",
      "Epoch 21/30\n",
      "1600/1600 [==============================] - 11s 7ms/step - loss: 0.5957 - val_loss: 0.8074\n",
      "Epoch 22/30\n",
      "1600/1600 [==============================] - 11s 7ms/step - loss: 0.5968 - val_loss: 0.8078\n",
      "Epoch 23/30\n",
      "1600/1600 [==============================] - 10s 7ms/step - loss: 0.5973 - val_loss: 0.7994\n",
      "Epoch 24/30\n",
      "1600/1600 [==============================] - 11s 7ms/step - loss: 0.5942 - val_loss: 0.8022\n",
      "Epoch 25/30\n",
      "1600/1600 [==============================] - 11s 7ms/step - loss: 0.5956 - val_loss: 0.7987\n",
      "Epoch 26/30\n",
      "1600/1600 [==============================] - 12s 8ms/step - loss: 0.5951 - val_loss: 0.8010\n",
      "Epoch 27/30\n",
      "1600/1600 [==============================] - 11s 7ms/step - loss: 0.5954 - val_loss: 0.7924\n",
      "Epoch 28/30\n",
      "1600/1600 [==============================] - 12s 7ms/step - loss: 0.5934 - val_loss: 0.7962\n",
      "Epoch 29/30\n",
      "1600/1600 [==============================] - 15s 9ms/step - loss: 0.5922 - val_loss: 0.8088\n",
      "Epoch 30/30\n",
      "1600/1600 [==============================] - 11s 7ms/step - loss: 0.5937 - val_loss: 0.8008\n"
     ]
    },
    {
     "data": {
      "text/plain": [
       "<keras.callbacks.History at 0x1a70fcabe0>"
      ]
     },
     "execution_count": 757,
     "metadata": {},
     "output_type": "execute_result"
    }
   ],
   "source": [
    "#fit model1\n",
    "model1.fit(x_train, y_train, epochs = 30,validation_data=(x_val, y_val)) "
   ]
  },
  {
   "cell_type": "code",
   "execution_count": 759,
   "metadata": {},
   "outputs": [
    {
     "name": "stdout",
     "output_type": "stream",
     "text": [
      "Train on 1600 samples, validate on 385 samples\n",
      "Epoch 1/30\n",
      "1600/1600 [==============================] - 16s 10ms/step - loss: 0.1714 - val_loss: 1.2652\n",
      "Epoch 2/30\n",
      "1600/1600 [==============================] - 13s 8ms/step - loss: 0.1518 - val_loss: 1.2368\n",
      "Epoch 3/30\n",
      "1600/1600 [==============================] - 14s 9ms/step - loss: 0.1583 - val_loss: 1.3026\n",
      "Epoch 4/30\n",
      "1600/1600 [==============================] - 14s 9ms/step - loss: 0.1504 - val_loss: 1.2702\n",
      "Epoch 5/30\n",
      "1600/1600 [==============================] - 13s 8ms/step - loss: 0.1520 - val_loss: 1.2237\n",
      "Epoch 6/30\n",
      "1600/1600 [==============================] - 13s 8ms/step - loss: 0.1423 - val_loss: 1.2721\n",
      "Epoch 7/30\n",
      "1600/1600 [==============================] - 13s 8ms/step - loss: 0.1464 - val_loss: 1.1974\n",
      "Epoch 8/30\n",
      "1600/1600 [==============================] - 14s 9ms/step - loss: 0.1481 - val_loss: 1.2813\n",
      "Epoch 9/30\n",
      "1600/1600 [==============================] - 13s 8ms/step - loss: 0.1422 - val_loss: 1.2056\n",
      "Epoch 10/30\n",
      "1600/1600 [==============================] - 13s 8ms/step - loss: 0.1803 - val_loss: 1.2368\n",
      "Epoch 11/30\n",
      "1600/1600 [==============================] - 13s 8ms/step - loss: 0.1487 - val_loss: 1.1978\n",
      "Epoch 12/30\n",
      "1600/1600 [==============================] - 13s 8ms/step - loss: 0.1455 - val_loss: 1.2594\n",
      "Epoch 13/30\n",
      "1600/1600 [==============================] - 13s 8ms/step - loss: 0.1487 - val_loss: 1.2730\n",
      "Epoch 14/30\n",
      "1600/1600 [==============================] - 14s 8ms/step - loss: 0.1611 - val_loss: 1.2780\n",
      "Epoch 15/30\n",
      "1600/1600 [==============================] - 14s 9ms/step - loss: 0.1519 - val_loss: 1.2236\n",
      "Epoch 16/30\n",
      "1600/1600 [==============================] - 13s 8ms/step - loss: 0.1539 - val_loss: 1.2711\n",
      "Epoch 17/30\n",
      "1600/1600 [==============================] - 13s 8ms/step - loss: 0.1509 - val_loss: 1.2175\n",
      "Epoch 18/30\n",
      "1600/1600 [==============================] - 13s 8ms/step - loss: 0.1775 - val_loss: 1.2824\n",
      "Epoch 19/30\n",
      "1600/1600 [==============================] - 13s 8ms/step - loss: 0.1416 - val_loss: 1.2846\n",
      "Epoch 20/30\n",
      "1600/1600 [==============================] - 13s 8ms/step - loss: 0.1486 - val_loss: 1.3044\n",
      "Epoch 21/30\n",
      "1600/1600 [==============================] - 13s 8ms/step - loss: 0.1290 - val_loss: 1.2038\n",
      "Epoch 22/30\n",
      "1600/1600 [==============================] - 13s 8ms/step - loss: 0.1423 - val_loss: 1.2187\n",
      "Epoch 23/30\n",
      "1600/1600 [==============================] - 13s 8ms/step - loss: 0.1326 - val_loss: 1.2368\n",
      "Epoch 24/30\n",
      "1600/1600 [==============================] - 13s 8ms/step - loss: 0.1404 - val_loss: 1.1957\n",
      "Epoch 25/30\n",
      "1600/1600 [==============================] - 13s 8ms/step - loss: 0.1321 - val_loss: 1.2613\n",
      "Epoch 26/30\n",
      "1600/1600 [==============================] - 13s 8ms/step - loss: 0.1298 - val_loss: 1.2065\n",
      "Epoch 27/30\n",
      "1600/1600 [==============================] - 13s 8ms/step - loss: 0.1383 - val_loss: 1.2516\n",
      "Epoch 28/30\n",
      "1600/1600 [==============================] - 13s 8ms/step - loss: 0.1375 - val_loss: 1.2654\n",
      "Epoch 29/30\n",
      "1600/1600 [==============================] - 13s 8ms/step - loss: 0.1381 - val_loss: 1.2685\n",
      "Epoch 30/30\n",
      "1600/1600 [==============================] - 13s 8ms/step - loss: 0.1365 - val_loss: 1.1780\n"
     ]
    },
    {
     "data": {
      "text/plain": [
       "<keras.callbacks.History at 0x1a712bbfd0>"
      ]
     },
     "execution_count": 759,
     "metadata": {},
     "output_type": "execute_result"
    }
   ],
   "source": [
    "model2.fit(x_train, y_train, epochs = 30, validation_data=(x_val, y_val)) "
   ]
  },
  {
   "cell_type": "markdown",
   "metadata": {},
   "source": [
    "## Results"
   ]
  },
  {
   "cell_type": "code",
   "execution_count": 749,
   "metadata": {},
   "outputs": [
    {
     "name": "stdout",
     "output_type": "stream",
     "text": [
      "385/385 [==============================] - 1s 3ms/step\n"
     ]
    }
   ],
   "source": [
    "prediction1 = model1.predict([x_val], verbose = True)"
   ]
  },
  {
   "cell_type": "code",
   "execution_count": 760,
   "metadata": {},
   "outputs": [
    {
     "name": "stdout",
     "output_type": "stream",
     "text": [
      "385/385 [==============================] - 1s 2ms/step\n"
     ]
    }
   ],
   "source": [
    "prediction2 = model2.predict([x_val], verbose = True)"
   ]
  },
  {
   "cell_type": "code",
   "execution_count": 751,
   "metadata": {},
   "outputs": [
    {
     "name": "stdout",
     "output_type": "stream",
     "text": [
      "Predicted values in model1 matched the actual direction 50.91 % of the time.\n"
     ]
    }
   ],
   "source": [
    "#calculate accuracy for model1\n",
    "count1=0\n",
    "for i in range(validation_samples):\n",
    "    if prediction1[i]*y_val[i]>0:\n",
    "        count1+=1\n",
    "print(\"Predicted values in model1 matched the actual direction\",round(count1/validation_samples,4)*100,\"% of the time.\")"
   ]
  },
  {
   "cell_type": "code",
   "execution_count": 761,
   "metadata": {},
   "outputs": [
    {
     "name": "stdout",
     "output_type": "stream",
     "text": [
      "Predicted values in model2 matched the actual direction 52.21 % of the time.\n"
     ]
    }
   ],
   "source": [
    "#calculate accuracy for model2\n",
    "count2=0\n",
    "for i in range(validation_samples):\n",
    "    if prediction2[i]*y_val[i]>0:\n",
    "        count2+=1\n",
    "print(\"Predicted values in model2 matched the actual direction\",round(count2/validation_samples,4)*100,\"% of the time.\")"
   ]
  },
  {
   "cell_type": "code",
   "execution_count": 762,
   "metadata": {},
   "outputs": [
    {
     "name": "stdout",
     "output_type": "stream",
     "text": [
      "The median_absolute_error for model1 is:  0.660997849282\n",
      "The median_absolute_error for model2 is:  0.639826256972\n"
     ]
    }
   ],
   "source": [
    "# Calculate the median absolute error for the predictions\n",
    "print(\"The median_absolute_error for model1 is: \",median_absolute_error(y_val, prediction1))\n",
    "print(\"The median_absolute_error for model2 is: \",median_absolute_error(y_val, prediction2))"
   ]
  },
  {
   "cell_type": "markdown",
   "metadata": {},
   "source": [
    "## Vidualization"
   ]
  },
  {
   "cell_type": "code",
   "execution_count": 741,
   "metadata": {},
   "outputs": [
    {
     "data": {
      "image/png": "[encoded data removed]",
      "text/plain": [
       "<matplotlib.figure.Figure at 0x1abd2f9828>"
      ]
     },
     "metadata": {},
     "output_type": "display_data"
    }
   ],
   "source": [
    "# Plot the predicted and actual values\n",
    "plt.figure(figsize=(25,4))\n",
    "plt.plot(prediction1)\n",
    "plt.plot(y_val)\n",
    "plt.title(\"Predicted v.s. Actual Rate of Return\")\n",
    "plt.xlabel(\"Testing instances\")\n",
    "plt.ylabel(\"Rate of Return\")\n",
    "plt.show()"
   ]
  },
  {
   "cell_type": "code",
   "execution_count": 742,
   "metadata": {},
   "outputs": [
    {
     "data": {
      "image/png": "[encoded data removed]",
      "text/plain": [
       "<matplotlib.figure.Figure at 0x1a710b0b70>"
      ]
     },
     "metadata": {},
     "output_type": "display_data"
    }
   ],
   "source": [
    "plt.figure(figsize=(25,4))\n",
    "plt.plot(prediction2)\n",
    "plt.plot(y_val)\n",
    "plt.title(\"Predicted v.s. Actual Rate of Return\")\n",
    "plt.xlabel(\"Testing instances\")\n",
    "plt.ylabel(\"Rate of Return\")\n",
    "plt.show()"
   ]
  },
  {
   "cell_type": "markdown",
   "metadata": {},
   "source": [
    "## Discussion"
   ]
  },
  {
   "cell_type": "markdown",
   "metadata": {
    "collapsed": true
   },
   "source": [
    "As the results show, these models only get accuracies over 50% in predicting the close price changes of the DJIA.\n",
    "I think without considering that the market is a random walk I can make some improvements:\n",
    "1. Narrow the range of the news and make them more relevent to the index or the stock market, such as economic news and industrial news.\n",
    "2. Consider the time factors.\n",
    "\n",
    "At last, I think predicting the capital markets would be a permanent task.\n"
   ]
  }
 ],
 "metadata": {
  "kernelspec": {
   "display_name": "Python 3",
   "language": "python",
   "name": "python3"
  },
  "language_info": {
   "codemirror_mode": {
    "name": "ipython",
    "version": 3
   },
   "file_extension": ".py",
   "mimetype": "text/x-python",
   "name": "python",
   "nbconvert_exporter": "python",
   "pygments_lexer": "ipython3",
   "version": "3.6.3"
  }
 },
 "nbformat": 4,
 "nbformat_minor": 2
}
